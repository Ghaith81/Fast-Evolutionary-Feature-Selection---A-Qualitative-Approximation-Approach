{
 "cells": [
  {
   "cell_type": "code",
   "execution_count": 1,
   "id": "abe545c1",
   "metadata": {},
   "outputs": [],
   "source": [
    "from Dataset import Dataset\n",
    "from Evolution import Evolution\n",
    "from sklearn.tree import DecisionTreeClassifier \n",
    "from sklearn.datasets import make_classification\n",
    "import pandas as pd\n",
    "from sklearn.neighbors import KNeighborsClassifier\n",
    "from sklearn.tree import DecisionTreeClassifier\n",
    "from sklearn.ensemble import RandomForestClassifier\n",
    "import numpy as np\n",
    "import seaborn as sns\n",
    "import matplotlib.pyplot as plt\n",
    "import logging\n",
    "\n",
    "logging.getLogger(\"imported_module\").setLevel(logging.CRITICAL)\n",
    "np.warnings.filterwarnings('ignore', category=np.VisibleDeprecationWarning)  "
   ]
  },
  {
   "cell_type": "markdown",
   "id": "359f57e3",
   "metadata": {},
   "source": [
    "# Instructions\n",
    "\n",
    "In this notebook feature selection can be carried for a number of UCI datasets. In order to test a particular datasets uncomment the correpsonding line in the next cell. Four wrapper feature selection methods are used to identify the infromative features using a Decision Tree classifier:\n",
    "\n",
    "* ## CHC$_{QX}$: \n",
    "The hyper-parameter choices of CHC$_{QX}$ are based on the paper “Fast Genetic Algorithm For Feature Selection - A Qualitative Approximation Approach”. The values are set to $q=10$ and $f=10$.\n",
    "\n",
    "* ## PSO$_{QX}$: \n",
    "The hyper-parameter choices of PSO$_{QX}$ are based on the paper “Fast Genetic Algorithm For Feature Selection - A Qualitative Approximation Approach”. The values are set to $q=10$ and $f=10$.\n",
    "\n",
    "* ## CHC: \n",
    "The implementation of a CHC algorithm is according to the paper: “The CHC Adaptive Search Algorithm: How to Have Safe Search When Engaging in Nontraditional Genetic Recombination”. The population size of is 50, the diversity parameter is set to $(d = \\frac{k}{4})$, where $k$ is the length of the individual (number of features), while the divergence rate is $(div = 0.35)$.\n",
    "\n",
    "* ## PSO:\n",
    "The global version of PSO with a topology connecting all particles to one another. The following options are used \\{c1: 1.49618, c2: 1.49618, w: 0.7298\\}, while the number of particles is set to 50."
   ]
  },
  {
   "cell_type": "code",
   "execution_count": 11,
   "id": "b421659b",
   "metadata": {},
   "outputs": [],
   "source": [
    "work_dir = 'UCI Datasets/Shuffled/'\n",
    "\n",
    "#file_name, sep, label = 'covtype.data', ',', -1\n",
    "#file_name, sep, label = 'adult.data', ',', -1\n",
    "#file_name, sep, label = 'census-income.data', ',', -1\n",
    "#file_name, sep, label = 'dota2Train.csv', ',', 0\n",
    "#file_name, sep, label = 'diabetic_data.csv', ',', -1\n",
    "file_name, sep, label, header = 'bank-full.csv', ',', -1, 0\n",
    "#file_name, sep, label = 'connect-4.data', ',', -1\n",
    "\n",
    " \n",
    "dataset = Dataset(work_dir+file_name, sep, label, divide_dataset=False, header=None)\n",
    "\n",
    "#classifier = KNeighborsClassifier(n_neighbors=1, n_jobs=-1)\n",
    "classifier = DecisionTreeClassifier(random_state=0)\n",
    "#classifier = RandomForestClassifier(n_estimators=11, random_state=0, n_jobs=-1)\n",
    "\n",
    "\n",
    "dataset.divide_dataset(classifier,\n",
    "                                      normalize=True, \n",
    "                                      shuffle=False, \n",
    "                                      all_features=True, \n",
    "                                      all_instances=True, \n",
    "                                      evaluate=True, \n",
    "                                      partial_sample=False)\n",
    "\n",
    "task = 'feature_selection'\n",
    "target_dataset = 'validation'\n",
    "ind_size = dataset.X_train.shape[1]\n",
    "population_size = 50"
   ]
  },
  {
   "cell_type": "markdown",
   "id": "03440de4",
   "metadata": {},
   "source": [
    "## CHC$_{QX}$"
   ]
  },
  {
   "cell_type": "code",
   "execution_count": 12,
   "id": "be6aefbd",
   "metadata": {},
   "outputs": [
    {
     "name": "stdout",
     "output_type": "stream",
     "text": [
      "Meta-model sample size: 6781\n",
      "Best Individual =  0.8998 , Gen =  20 \r"
     ]
    }
   ],
   "source": [
    "log, baseline_full_data = Evolution.CHCqx(dataset, 10, 10, 2, population_size, verbose=1)"
   ]
  },
  {
   "cell_type": "code",
   "execution_count": 13,
   "id": "8edf4f98",
   "metadata": {},
   "outputs": [
    {
     "name": "stdout",
     "output_type": "stream",
     "text": [
      "\n",
      "Test accuracy: % 89.19\n",
      "Solution found in:  6.85 sec\n",
      "Selected features indexes:  [ 6  8 14 15]\n"
     ]
    }
   ],
   "source": [
    "feature_subset = log.iloc[-1]['ind']  \n",
    "feature_subset = np.array(feature_subset)\n",
    "\n",
    "elapsed_time = np.round(log.iloc[-1]['time'], 2)\n",
    "accuracy = np.round(100*Evolution.evaluate(feature_subset, 'feature_selection', 'test', dataset)[0], 2)\n",
    "\n",
    "print()\n",
    "print('Test accuracy: %', accuracy)\n",
    "print('Solution found in: ', elapsed_time, 'sec')\n",
    "print('Selected features indexes: ', np.where(feature_subset == 1)[0])"
   ]
  },
  {
   "cell_type": "code",
   "execution_count": null,
   "id": "9097197e",
   "metadata": {},
   "outputs": [],
   "source": []
  },
  {
   "cell_type": "markdown",
   "id": "26aefc8c",
   "metadata": {},
   "source": [
    "## PSO$_{QX}$"
   ]
  },
  {
   "cell_type": "code",
   "execution_count": 15,
   "id": "0b1e1839",
   "metadata": {},
   "outputs": [
    {
     "name": "stdout",
     "output_type": "stream",
     "text": [
      "Meta-model sample size: 6781\n",
      "Best Individual =  0.8996 , Step =  10 \r"
     ]
    }
   ],
   "source": [
    "options = {'c1': 1.49618, 'c2': 1.49618, 'w': 0.7298, 'k': population_size, 'p':2}\n",
    "\n",
    "log, baseline_full_data = Evolution.PSOqx(dataset, options, 10, 10, 2, population_size, verbose=1)"
   ]
  },
  {
   "cell_type": "code",
   "execution_count": 16,
   "id": "8804f44a",
   "metadata": {},
   "outputs": [
    {
     "name": "stdout",
     "output_type": "stream",
     "text": [
      "\n",
      "Test accuracy: % 89.17\n",
      "Solution found in:  4.53 sec\n",
      "Selected features indexes:  [ 1  3 15]\n"
     ]
    }
   ],
   "source": [
    "feature_subset = log.iloc[-1]['ind']  \n",
    "feature_subset = np.array(feature_subset)\n",
    "\n",
    "elapsed_time = np.round(log.iloc[-1]['time'], 2)\n",
    "accuracy = np.round(100*Evolution.evaluate(feature_subset, 'feature_selection', 'test', dataset)[0], 2)\n",
    "\n",
    "print()\n",
    "print('Test accuracy: %', accuracy)\n",
    "print('Solution found in: ', elapsed_time, 'sec')\n",
    "print('Selected features indexes: ', np.where(feature_subset == 1)[0])"
   ]
  },
  {
   "cell_type": "code",
   "execution_count": null,
   "id": "9019acb8",
   "metadata": {},
   "outputs": [],
   "source": []
  },
  {
   "cell_type": "markdown",
   "id": "69f6e2ff",
   "metadata": {},
   "source": [
    "## CHC"
   ]
  },
  {
   "cell_type": "code",
   "execution_count": 17,
   "id": "75a1a34f",
   "metadata": {},
   "outputs": [
    {
     "name": "stdout",
     "output_type": "stream",
     "text": [
      "Best Individual =  0.8998 , Gen =  20 \r"
     ]
    }
   ],
   "source": [
    "ind_size = dataset.X_train.shape[1]\n",
    "toolbox = Evolution.create_toolbox(task, target_dataset, dataset, baseline_full_data)\n",
    "population = Evolution.create_population(population_size, ind_size)\n",
    "d = ind_size // 4\n",
    "log, population, d = Evolution.CHC(dataset, toolbox, d, population, verbose=1, max_no_change=10)"
   ]
  },
  {
   "cell_type": "code",
   "execution_count": 18,
   "id": "c54efda0",
   "metadata": {},
   "outputs": [
    {
     "name": "stdout",
     "output_type": "stream",
     "text": [
      "\n",
      "Test accuracy: % 89.19\n",
      "Solution found in:  13.78 sec\n",
      "Selected features indexes:  [ 4  6  8 14 15]\n"
     ]
    }
   ],
   "source": [
    "feature_subset = log.iloc[-1]['best_solution']  \n",
    "feature_subset = np.array(feature_subset)\n",
    "\n",
    "elapsed_time = np.round(log.iloc[-1]['time'], 2)\n",
    "accuracy = np.round(100*Evolution.evaluate(feature_subset, 'feature_selection', 'test', dataset)[0], 2)\n",
    "\n",
    "print()\n",
    "print('Test accuracy: %', accuracy)\n",
    "print('Solution found in: ', elapsed_time, 'sec')\n",
    "print('Selected features indexes: ', np.where(feature_subset == 1)[0])"
   ]
  },
  {
   "cell_type": "code",
   "execution_count": null,
   "id": "165e3a57",
   "metadata": {},
   "outputs": [],
   "source": []
  },
  {
   "cell_type": "markdown",
   "id": "074d08ca",
   "metadata": {},
   "source": [
    "## PSO"
   ]
  },
  {
   "cell_type": "code",
   "execution_count": 19,
   "id": "2ba186cb",
   "metadata": {},
   "outputs": [
    {
     "name": "stdout",
     "output_type": "stream",
     "text": [
      "Best Individual =  -0.8995 , Step =  17 \r"
     ]
    }
   ],
   "source": [
    "options = {'c1': 1.49618, 'c2': 1.49618, 'w': 0.7298, 'k': population_size, 'p':2}\n",
    "\n",
    "log = Evolution.PSO(dataset, options, population_size, steps_no_change=10, verbose=1)"
   ]
  },
  {
   "cell_type": "code",
   "execution_count": 20,
   "id": "cde2d0e7",
   "metadata": {},
   "outputs": [
    {
     "name": "stdout",
     "output_type": "stream",
     "text": [
      "\n",
      "Test accuracy: % 89.25\n",
      "Solution found in:  18.01 sec\n",
      "Selected features indexes:  [ 2  3  4  6 15]\n"
     ]
    }
   ],
   "source": [
    "feature_subset = log.iloc[-1]['ind']  \n",
    "feature_subset = np.array(feature_subset)\n",
    "\n",
    "elapsed_time = np.round(log.iloc[-1]['time'], 2)\n",
    "accuracy = np.round(100*Evolution.evaluate(feature_subset, 'feature_selection', 'test', dataset)[0], 2)\n",
    "\n",
    "print()\n",
    "print('Test accuracy: %', accuracy)\n",
    "print('Solution found in: ', elapsed_time, 'sec')\n",
    "print('Selected features indexes: ', np.where(feature_subset == 1)[0])"
   ]
  },
  {
   "cell_type": "code",
   "execution_count": null,
   "id": "8cbdf590",
   "metadata": {},
   "outputs": [],
   "source": []
  }
 ],
 "metadata": {
  "kernelspec": {
   "display_name": "Python 3",
   "language": "python",
   "name": "python3"
  },
  "language_info": {
   "codemirror_mode": {
    "name": "ipython",
    "version": 3
   },
   "file_extension": ".py",
   "mimetype": "text/x-python",
   "name": "python",
   "nbconvert_exporter": "python",
   "pygments_lexer": "ipython3",
   "version": "3.8.11"
  }
 },
 "nbformat": 4,
 "nbformat_minor": 5
}
