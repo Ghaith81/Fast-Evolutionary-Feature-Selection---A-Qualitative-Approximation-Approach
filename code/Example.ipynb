{
 "cells": [
  {
   "cell_type": "code",
   "execution_count": 1,
   "id": "abe545c1",
   "metadata": {},
   "outputs": [],
   "source": [
    "from Dataset import Dataset\n",
    "from Evolution import Evolution\n",
    "from sklearn.tree import DecisionTreeClassifier \n",
    "from sklearn.datasets import make_classification\n",
    "import pandas as pd\n",
    "from sklearn.neighbors import KNeighborsClassifier\n",
    "from sklearn.tree import DecisionTreeClassifier\n",
    "from sklearn.ensemble import RandomForestClassifier\n",
    "import numpy as np\n",
    "import seaborn as sns\n",
    "import matplotlib.pyplot as plt\n",
    "import logging\n",
    "from pathlib import Path\n",
    "import os\n",
    "\n",
    "logging.getLogger(\"imported_module\").setLevel(logging.CRITICAL)\n",
    "np.warnings.filterwarnings('ignore', category=np.VisibleDeprecationWarning)  "
   ]
  },
  {
   "cell_type": "markdown",
   "id": "243e1a37",
   "metadata": {},
   "source": [
    "# Instructions\n",
    "\n",
    "In this notebook feature selection can be carried for the census-income datasets from the UCI repository. This code could be modified to load a different dataset. Four wrapper feature selection methods are used to identify the infromative features using a Decision Tree classifier:\n",
    "\n",
    "* ## CHC$_{QX}$: \n",
    "The hyper-parameter choices of CHC$_{QX}$ are based on the paper “Fast Genetic Algorithm For Feature Selection - A Qualitative Approximation Approach”. The values are set to $q=10$ and $f=10$.\n",
    "\n",
    "* ## PSO$_{QX}$: \n",
    "The hyper-parameter choices of PSO$_{QX}$ are based on the paper “Fast Genetic Algorithm For Feature Selection - A Qualitative Approximation Approach”. The values are set to $q=10$ and $f=10$.\n",
    "\n",
    "* ## CHC: \n",
    "The implementation of a CHC algorithm is according to the paper: “The CHC Adaptive Search Algorithm: How to Have Safe Search When Engaging in Nontraditional Genetic Recombination”. The population size of is 50, the diversity parameter is set to $(d = \\frac{k}{4})$, where $k$ is the length of the individual (number of features), while the divergence rate is $(div = 0.35)$.\n",
    "\n",
    "* ## PSO:\n",
    "The global version of PSO with a topology connecting all particles to one another. The following options are used \\{c1: 1.49618, c2: 1.49618, w: 0.7298\\}, while the number of particles is set to 50."
   ]
  },
  {
   "cell_type": "code",
   "execution_count": 20,
   "id": "b421659b",
   "metadata": {},
   "outputs": [],
   "source": [
    "path = Path(\"\")\n",
    "work_dir = str(path.parent.absolute().parent.absolute())+'/data/'\n",
    "\n",
    "\n",
    "file_name, sep, label = 'census-income.data', ',', -1\n",
    "\n",
    " \n",
    "dataset = Dataset(work_dir+file_name, sep, label, divide_dataset=False, header=None)\n",
    "\n",
    "classifier = DecisionTreeClassifier(random_state=0)\n",
    "\n",
    "dataset.divide_dataset(classifier,\n",
    "                                      normalize=True, \n",
    "                                      shuffle=False, \n",
    "                                      all_features=True, \n",
    "                                      all_instances=True, \n",
    "                                      evaluate=True, \n",
    "                                      partial_sample=False)\n",
    "\n",
    "task = 'feature_selection'\n",
    "target_dataset = 'validation'\n",
    "ind_size = dataset.X_train.shape[1]\n",
    "population_size = 50\n",
    "\n",
    "results_df = pd.DataFrame(columns=['algorithm', 'time', 'test'])"
   ]
  },
  {
   "cell_type": "markdown",
   "id": "06a0b0af",
   "metadata": {},
   "source": [
    "## CHC$_{QX}$"
   ]
  },
  {
   "cell_type": "code",
   "execution_count": 33,
   "id": "ab9ad856",
   "metadata": {},
   "outputs": [
    {
     "name": "stdout",
     "output_type": "stream",
     "text": [
      "Meta-model sample size: 14964\n",
      "Best Individual =  0.9491 , Gen =  60 \r"
     ]
    }
   ],
   "source": [
    "log, baseline_full_data = Evolution.CHCqx(dataset, 10, 10, 2, population_size, verbose=1)"
   ]
  },
  {
   "cell_type": "code",
   "execution_count": 35,
   "id": "ca8625ef",
   "metadata": {},
   "outputs": [
    {
     "name": "stdout",
     "output_type": "stream",
     "text": [
      "\n",
      "Test accuracy: % 94.96\n",
      "Solution found in:  55.46 sec\n",
      "Selected features indexes:  [12 16 17 19 40]\n"
     ]
    }
   ],
   "source": [
    "feature_subset = log.iloc[-1]['ind']  \n",
    "feature_subset = np.array(feature_subset)\n",
    "\n",
    "elapsed_time = np.round(log.iloc[-1]['time'], 2)\n",
    "accuracy = np.round(100*Evolution.evaluate(feature_subset, 'feature_selection', 'test', dataset)[0], 2)\n",
    "\n",
    "print()\n",
    "print('Test accuracy: %', accuracy)\n",
    "print('Solution found in: ', elapsed_time, 'sec')\n",
    "print('Selected features indexes: ', np.where(feature_subset == 1)[0])\n",
    "\n",
    "row = ['CHC$_{QX}$', elapsed_time, accuracy]\n",
    "results_df.loc[len(results_df)] = row"
   ]
  },
  {
   "cell_type": "code",
   "execution_count": null,
   "id": "0409e266",
   "metadata": {},
   "outputs": [],
   "source": []
  },
  {
   "cell_type": "markdown",
   "id": "bffcfbb4",
   "metadata": {},
   "source": [
    "## PSO$_{QX}$"
   ]
  },
  {
   "cell_type": "code",
   "execution_count": 37,
   "id": "8da8d8ca",
   "metadata": {},
   "outputs": [
    {
     "name": "stdout",
     "output_type": "stream",
     "text": [
      "Meta-model sample size: 29928\n",
      "Best Individual =  0.9492 , Step =  10 \r"
     ]
    }
   ],
   "source": [
    "options = {'c1': 1.49618, 'c2': 1.49618, 'w': 0.7298, 'k': population_size, 'p':2}\n",
    "\n",
    "log, baseline_full_data = Evolution.PSOqx(dataset, options, 10, 10, 2, population_size, verbose=1)"
   ]
  },
  {
   "cell_type": "code",
   "execution_count": 38,
   "id": "5bdd232a",
   "metadata": {},
   "outputs": [
    {
     "name": "stdout",
     "output_type": "stream",
     "text": [
      "\n",
      "Test accuracy: % 95.09\n",
      "Solution found in:  33.95 sec\n",
      "Selected features indexes:  [ 3 12 14 16 17 22 23 31]\n"
     ]
    }
   ],
   "source": [
    "feature_subset = log.iloc[-1]['ind']  \n",
    "feature_subset = np.array(feature_subset)\n",
    "\n",
    "elapsed_time = np.round(log.iloc[-1]['time'], 2)\n",
    "accuracy = np.round(100*Evolution.evaluate(feature_subset, 'feature_selection', 'test', dataset)[0], 2)\n",
    "\n",
    "print()\n",
    "print('Test accuracy: %', accuracy)\n",
    "print('Solution found in: ', elapsed_time, 'sec')\n",
    "print('Selected features indexes: ', np.where(feature_subset == 1)[0])\n",
    "\n",
    "row = ['PSO$_{QX}$', elapsed_time, accuracy]\n",
    "results_df.loc[len(results_df)] = row"
   ]
  },
  {
   "cell_type": "code",
   "execution_count": null,
   "id": "29b080ee",
   "metadata": {},
   "outputs": [],
   "source": []
  },
  {
   "cell_type": "markdown",
   "id": "f0245fad",
   "metadata": {},
   "source": [
    "## CHC"
   ]
  },
  {
   "cell_type": "code",
   "execution_count": 39,
   "id": "351e839c",
   "metadata": {},
   "outputs": [
    {
     "name": "stdout",
     "output_type": "stream",
     "text": [
      "Best Individual =  0.9491 , Gen =  31 \r"
     ]
    }
   ],
   "source": [
    "ind_size = dataset.X_train.shape[1]\n",
    "toolbox = Evolution.create_toolbox(task, target_dataset, dataset, baseline_full_data)\n",
    "population = Evolution.create_population(population_size, ind_size)\n",
    "d = ind_size // 4\n",
    "log, population, d = Evolution.CHC(dataset, toolbox, d, population, verbose=1, max_no_change=10)"
   ]
  },
  {
   "cell_type": "code",
   "execution_count": 40,
   "id": "7627bb53",
   "metadata": {},
   "outputs": [
    {
     "name": "stdout",
     "output_type": "stream",
     "text": [
      "\n",
      "Test accuracy: % 94.93\n",
      "Solution found in:  119.52 sec\n",
      "Selected features indexes:  [10 12 16 17]\n"
     ]
    }
   ],
   "source": [
    "feature_subset = log.iloc[-1]['best_solution']  \n",
    "feature_subset = np.array(feature_subset)\n",
    "\n",
    "elapsed_time = np.round(log.iloc[-1]['time'], 2)\n",
    "accuracy = np.round(100*Evolution.evaluate(feature_subset, 'feature_selection', 'test', dataset)[0], 2)\n",
    "\n",
    "print()\n",
    "print('Test accuracy: %', accuracy)\n",
    "print('Solution found in: ', elapsed_time, 'sec')\n",
    "print('Selected features indexes: ', np.where(feature_subset == 1)[0])\n",
    "\n",
    "row = ['CHC', elapsed_time, accuracy]\n",
    "results_df.loc[len(results_df)] = row"
   ]
  },
  {
   "cell_type": "code",
   "execution_count": null,
   "id": "88971597",
   "metadata": {},
   "outputs": [],
   "source": []
  },
  {
   "cell_type": "markdown",
   "id": "3a0aa554",
   "metadata": {},
   "source": [
    "## PSO"
   ]
  },
  {
   "cell_type": "code",
   "execution_count": 41,
   "id": "2ba186cb",
   "metadata": {},
   "outputs": [
    {
     "name": "stdout",
     "output_type": "stream",
     "text": [
      "Best Individual =  -0.9491 , Step =  33 \r"
     ]
    }
   ],
   "source": [
    "options = {'c1': 1.49618, 'c2': 1.49618, 'w': 0.7298, 'k': population_size, 'p':2}\n",
    "\n",
    "log = Evolution.PSO(dataset, options, population_size, steps_no_change=10, verbose=1)"
   ]
  },
  {
   "cell_type": "code",
   "execution_count": 42,
   "id": "cde2d0e7",
   "metadata": {},
   "outputs": [
    {
     "name": "stdout",
     "output_type": "stream",
     "text": [
      "\n",
      "Test accuracy: % 94.91\n",
      "Solution found in:  230.08 sec\n",
      "Selected features indexes:  [ 6 10 12 16 17 19 29 31 40]\n"
     ]
    }
   ],
   "source": [
    "feature_subset = log.iloc[-1]['ind']  \n",
    "feature_subset = np.array(feature_subset)\n",
    "\n",
    "elapsed_time = np.round(log.iloc[-1]['time'], 2)\n",
    "accuracy = np.round(100*Evolution.evaluate(feature_subset, 'feature_selection', 'test', dataset)[0], 2)\n",
    "\n",
    "print()\n",
    "print('Test accuracy: %', accuracy)\n",
    "print('Solution found in: ', elapsed_time, 'sec')\n",
    "print('Selected features indexes: ', np.where(feature_subset == 1)[0])\n",
    "\n",
    "row = ['PSO', elapsed_time, accuracy]\n",
    "results_df.loc[len(results_df)] = row"
   ]
  },
  {
   "cell_type": "code",
   "execution_count": null,
   "id": "c2061ff6",
   "metadata": {},
   "outputs": [],
   "source": []
  },
  {
   "cell_type": "markdown",
   "id": "f5b48dcd",
   "metadata": {},
   "source": [
    "# Saving results"
   ]
  },
  {
   "cell_type": "code",
   "execution_count": 44,
   "id": "c545acbf",
   "metadata": {},
   "outputs": [],
   "source": [
    "results_df.to_csv('results/results.csv')"
   ]
  },
  {
   "cell_type": "code",
   "execution_count": null,
   "id": "63ec7b20",
   "metadata": {},
   "outputs": [],
   "source": []
  }
 ],
 "metadata": {
  "kernelspec": {
   "display_name": "Python 3",
   "language": "python",
   "name": "python3"
  },
  "language_info": {
   "codemirror_mode": {
    "name": "ipython",
    "version": 3
   },
   "file_extension": ".py",
   "mimetype": "text/x-python",
   "name": "python",
   "nbconvert_exporter": "python",
   "pygments_lexer": "ipython3",
   "version": "3.8.11"
  }
 },
 "nbformat": 4,
 "nbformat_minor": 5
}
